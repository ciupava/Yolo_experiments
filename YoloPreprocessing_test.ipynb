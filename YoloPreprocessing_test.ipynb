{
  "nbformat": 4,
  "nbformat_minor": 0,
  "metadata": {
    "colab": {
      "provenance": [],
      "authorship_tag": "ABX9TyOKanaKmht/fAk6oEJh9lcu",
      "include_colab_link": true
    },
    "kernelspec": {
      "name": "python3",
      "display_name": "Python 3"
    },
    "language_info": {
      "name": "python"
    }
  },
  "cells": [
    {
      "cell_type": "markdown",
      "metadata": {
        "id": "view-in-github",
        "colab_type": "text"
      },
      "source": [
        "<a href=\"https://colab.research.google.com/github/ciupava/Yolo_experiments/blob/main/YoloPreprocessing_test.ipynb\" target=\"_parent\"><img src=\"https://colab.research.google.com/assets/colab-badge.svg\" alt=\"Open In Colab\"/></a>"
      ]
    },
    {
      "cell_type": "markdown",
      "source": [
        "### **Preprocessing** ###\n",
        "\n",
        "TO BE UPDATED!!\n",
        "\n",
        "This notebook downloads and preprocesses the RAMP data package (RAMP-DATA-V0), which comprises over 100k image-label in TIF-GEOJSON formats and 22 regional folders. The resulting output of this notebook is YOLO-DATA-V1 dataset. YOLO-DATA-V2 and YOLO-DATA-V3 datasets were created using the Pruning notebook.\n",
        "\n",
        "Below are the key highlights accomplished in this notebook.\n",
        "\n",
        "1. Data Exploration\n",
        "    \n",
        " - Download from Gdrive and unzip the RAMP data package.\n",
        " - Completed basic data integrity checks.\n",
        " - Counted the image and label files and confirmed that each image has a label with the matching name.\n",
        " - Checked the shape of the images; this step revealed issues with the Shanghai and Paris subfolders.\n",
        " - Identify background images by filename the image-label and compute the total percentage.\n",
        "\n",
        "2. Enhance the dataset\n",
        "\n",
        " - Create a dataframe for analysis and data control.\n",
        " - Set Shanghai and Paris subfolders from the dataset by flagging 'use' to False for image shape is not (256, 256, 3).\n",
        " - Set 'use' flag to False randomly for 13% of background images to reduce from 18% to 5%.\n",
        " - Indentify images found with incorrect image-label in the exclusions_list.txt.\n",
        "\n",
        "3. Convert RAMP (TIF/GEOJSON) to YOLO (JPG/TXT)\n",
        "\n",
        " - Image-label pairs were randomly assigned to train-val-test folders using a 70-15-15 split.\n",
        " - Generate text files based on the YOLO's segmentation format from the GEOJSON and TIF files. Polygons were extracted from each GEOJSON file and aligned with the location information embedded in the TIF. Note: 0,0 is the top, left, and coordinates normalized over 0, 1.\n",
        " - Convert the TIF images to JPG at quality level 100.\n",
        "\n",
        "\n",
        "Note: A GPU is not required for preprocessing. Due to the numerous disk i/o operations, this notebook is preferred over Google Colab for local running."
      ],
      "metadata": {
        "id": "mnZ8mkSnYx4q"
      }
    },
    {
      "cell_type": "code",
      "source": [
        "!pip3 install -q rasterio\n",
        "!pip3 install -q pyproj"
      ],
      "metadata": {
        "id": "7uqDxaw9Y5-m"
      },
      "execution_count": null,
      "outputs": []
    },
    {
      "cell_type": "code",
      "source": [
        "import os\n",
        "import glob\n",
        "import json\n",
        "import cv2\n",
        "import json\n",
        "import pandas as pd\n",
        "import matplotlib.pyplot as plt\n",
        "import random\n",
        "from pyproj import Transformer\n",
        "import rasterio\n",
        "import matplotlib.image as mpimg\n",
        "from PIL import Image\n",
        "import numpy as np\n",
        "import yaml\n",
        "import gc\n",
        "from tqdm import tqdm"
      ],
      "metadata": {
        "id": "nVmpJK84Y9fY"
      },
      "execution_count": null,
      "outputs": []
    },
    {
      "cell_type": "code",
      "source": [
        "# Connecting to 'My Drive', to be able to access local data\n",
        "\n",
        "from google.colab import drive\n",
        "drive.mount('/content/drive')"
      ],
      "metadata": {
        "id": "z9FgZHOxY_ul"
      },
      "execution_count": null,
      "outputs": []
    },
    {
      "cell_type": "code",
      "source": [
        "os.chdir('/content/drive/My Drive/YOLO_test/data/')\n",
        "os.listdir()\n"
      ],
      "metadata": {
        "id": "nkQOogTiZ4vJ"
      },
      "execution_count": null,
      "outputs": []
    },
    {
      "cell_type": "code",
      "source": [
        "home_folder = os.getcwd()\n",
        "DATA_FOLDERS = 'fair_*'\n",
        "data_folders = glob.glob(DATA_FOLDERS)"
      ],
      "metadata": {
        "id": "Zpy0pcfVY_i4"
      },
      "execution_count": null,
      "outputs": []
    },
    {
      "cell_type": "code",
      "source": [
        "def find_files():\n",
        "    \"\"\"\n",
        "    Find chip (.tif) and label (.geojson) files in the specified folders.\n",
        "\n",
        "    Returns:\n",
        "    cwps (list): List of chip filenames with path.\n",
        "    lwps (list): List of label filenames with path.\n",
        "    base_folders (list): List of base folder names.\n",
        "    \"\"\"\n",
        "\n",
        "    # Find the folders\n",
        "    data_folders = glob.glob(DATA_FOLDERS)\n",
        "\n",
        "    # Create a list to store chip (.tif), mask (.mask.tif), and label (.geojson) filenames with path\n",
        "    cwps = []\n",
        "    lwps = []\n",
        "\n",
        "    # Create a list to store the base folder names\n",
        "    base_folders = []\n",
        "\n",
        "    for folder in data_folders:\n",
        "        print(f'folder is {folder}')\n",
        "        # Pattern to match all .tif files in the current folder, including subdirectories\n",
        "        tif_pattern = f\"{folder}/**/**/**/*.tif\".        print(f'found tif files {found_tif_files}')\n",
        "        print(f'tif pattern is {tif_pattern}')\n",
        "        print(len(tif_pattern))\n",
        "        # Find all .tif files in the current 'training*' folder and its subdirectories\n",
        "        found_tif_files = glob.glob(tif_pattern, recursive=True)\n",
        "        print(f'found tif files {found_tif_files}')\n",
        "        print(len(found_tif_files))\n",
        "        # Filter out .mask.tif files and add the rest to the tif_files list\n",
        "        for file in found_tif_files:\n",
        "            if not file.endswith('mask.tif'):\n",
        "                cwps.append(file)\n",
        "\n",
        "        # Pattern to match all .geojson files in the current folder, including subdirectories\n",
        "        geojson_pattern = f\"{folder}/**/**/**/*.geojson\".        print(f'found tif files {found_tif_files}')\n",
        "        print(f'geojson pattern is {geojson_pattern}')\n",
        "        print(len(geojson_pattern))\n",
        "        # Find all .geojson files\n",
        "        found_geojson_files = glob.glob(geojson_pattern, recursive=True)\n",
        "        print(f'found gjson files {found_geojson_files}')\n",
        "        print(len(found_geojson_files))\n",
        "        # Add found .geojson files to the geojson_files list\n",
        "        lwps.extend(found_geojson_files)\n",
        "\n",
        "    # Sort the lists\n",
        "    cwps.sort()\n",
        "    lwps.sort()\n",
        "\n",
        "    # Assert that the the number files for each type are the same\n",
        "    assert len(cwps) == len(lwps), \"Number of tif files and label files do not match\"\n",
        "\n",
        "    # Function to check that the filenames match\n",
        "    for n, cwp in enumerate(cwps):\n",
        "        c = os.path.basename(cwp).replace('.tif', '')\n",
        "        l = os.path.basename(lwps[n]).replace('.geojson', '')\n",
        "\n",
        "        assert c == l, f\"Chip and label filenames do not match: {c} != {l}\"\n",
        "\n",
        "        base_folders.append(cwp.split('/')[1])\n",
        "\n",
        "    return cwps, lwps, base_folders\n",
        "\n",
        "# Call the function and print the number of found files\n",
        "cwps, lwps, base_folders = find_files()\n",
        "print('Found {} chip files'.format(len(cwps)))\n",
        "print('Found {} label files\\n'.format(len(lwps)))\n",
        "\n",
        "# Print message if all filenames match\n",
        "print('All filenames match; each tif has a label!')"
      ],
      "metadata": {
        "id": "MJ6P_4LHaErE"
      },
      "execution_count": null,
      "outputs": []
    }
  ]
}